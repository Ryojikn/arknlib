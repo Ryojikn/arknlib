{
 "cells": [
  {
   "cell_type": "code",
   "execution_count": 1,
   "metadata": {},
   "outputs": [],
   "source": [
    "import pandas as pd\n",
    "from dataprep import Prep"
   ]
  },
  {
   "cell_type": "code",
   "execution_count": 2,
   "metadata": {},
   "outputs": [],
   "source": [
    "prep = Prep()"
   ]
  },
  {
   "cell_type": "code",
   "execution_count": 3,
   "metadata": {},
   "outputs": [],
   "source": [
    "import pandas as pd\n",
    "df = pd.read_csv('test.csv', sep=';')"
   ]
  },
  {
   "cell_type": "code",
   "execution_count": 4,
   "metadata": {},
   "outputs": [
    {
     "data": {
      "text/html": [
       "<div>\n",
       "<style scoped>\n",
       "    .dataframe tbody tr th:only-of-type {\n",
       "        vertical-align: middle;\n",
       "    }\n",
       "\n",
       "    .dataframe tbody tr th {\n",
       "        vertical-align: top;\n",
       "    }\n",
       "\n",
       "    .dataframe thead th {\n",
       "        text-align: right;\n",
       "    }\n",
       "</style>\n",
       "<table border=\"1\" class=\"dataframe\">\n",
       "  <thead>\n",
       "    <tr style=\"text-align: right;\">\n",
       "      <th></th>\n",
       "      <th>col1</th>\n",
       "      <th>col2</th>\n",
       "      <th>col3</th>\n",
       "    </tr>\n",
       "  </thead>\n",
       "  <tbody>\n",
       "    <tr>\n",
       "      <th>0</th>\n",
       "      <td>[testing, this, ., ,, @, #, device]</td>\n",
       "      <td>[trying, to, understand, everythning]</td>\n",
       "      <td>[i, have, no, idea, what, 's, happening, here,...</td>\n",
       "    </tr>\n",
       "    <tr>\n",
       "      <th>1</th>\n",
       "      <td>[testing, linguiçãõséíó, this, !, %, $, device]</td>\n",
       "      <td>[trying, to, understand, everythning]</td>\n",
       "      <td>[i, have, no, idea, what, 's, happening, here,...</td>\n",
       "    </tr>\n",
       "  </tbody>\n",
       "</table>\n",
       "</div>"
      ],
      "text/plain": [
       "                                              col1  \\\n",
       "0              [testing, this, ., ,, @, #, device]   \n",
       "1  [testing, linguiçãõséíó, this, !, %, $, device]   \n",
       "\n",
       "                                    col2  \\\n",
       "0  [trying, to, understand, everythning]   \n",
       "1  [trying, to, understand, everythning]   \n",
       "\n",
       "                                                col3  \n",
       "0  [i, have, no, idea, what, 's, happening, here,...  \n",
       "1  [i, have, no, idea, what, 's, happening, here,...  "
      ]
     },
     "execution_count": 4,
     "metadata": {},
     "output_type": "execute_result"
    }
   ],
   "source": [
    "prep.tokenize(df, ['col1', 'col2', 'col3'])"
   ]
  },
  {
   "cell_type": "code",
   "execution_count": 5,
   "metadata": {},
   "outputs": [
    {
     "data": {
      "text/plain": [
       "0                 testing this . , @# device\n",
       "1    testing linguiçãõséíó this ! % $ device\n",
       "Name: col1, dtype: object"
      ]
     },
     "execution_count": 5,
     "metadata": {},
     "output_type": "execute_result"
    }
   ],
   "source": [
    "prep.clean_whitespaces(df, ['col1'])['col1']"
   ]
  },
  {
   "cell_type": "code",
   "execution_count": 6,
   "metadata": {},
   "outputs": [
    {
     "data": {
      "text/html": [
       "<div>\n",
       "<style scoped>\n",
       "    .dataframe tbody tr th:only-of-type {\n",
       "        vertical-align: middle;\n",
       "    }\n",
       "\n",
       "    .dataframe tbody tr th {\n",
       "        vertical-align: top;\n",
       "    }\n",
       "\n",
       "    .dataframe thead th {\n",
       "        text-align: right;\n",
       "    }\n",
       "</style>\n",
       "<table border=\"1\" class=\"dataframe\">\n",
       "  <thead>\n",
       "    <tr style=\"text-align: right;\">\n",
       "      <th></th>\n",
       "      <th>col1</th>\n",
       "      <th>col2</th>\n",
       "      <th>col3</th>\n",
       "    </tr>\n",
       "  </thead>\n",
       "  <tbody>\n",
       "    <tr>\n",
       "      <th>0</th>\n",
       "      <td>testing this              device</td>\n",
       "      <td>trying to understand everythning</td>\n",
       "      <td>i have no idea what's happening here, this is ...</td>\n",
       "    </tr>\n",
       "    <tr>\n",
       "      <th>1</th>\n",
       "      <td>testing linguiçãõséíó   this           device</td>\n",
       "      <td>trying    to    understand everythning</td>\n",
       "      <td>i have no idea what's happening here, this is ...</td>\n",
       "    </tr>\n",
       "  </tbody>\n",
       "</table>\n",
       "</div>"
      ],
      "text/plain": [
       "                                            col1  \\\n",
       "0               testing this              device   \n",
       "1  testing linguiçãõséíó   this           device   \n",
       "\n",
       "                                     col2  \\\n",
       "0        trying to understand everythning   \n",
       "1  trying    to    understand everythning   \n",
       "\n",
       "                                                col3  \n",
       "0  i have no idea what's happening here, this is ...  \n",
       "1  i have no idea what's happening here, this is ...  "
      ]
     },
     "execution_count": 6,
     "metadata": {},
     "output_type": "execute_result"
    }
   ],
   "source": [
    "prep.remove_punctuation(df, ['col1'])"
   ]
  },
  {
   "cell_type": "code",
   "execution_count": 7,
   "metadata": {},
   "outputs": [
    {
     "data": {
      "text/html": [
       "<div>\n",
       "<style scoped>\n",
       "    .dataframe tbody tr th:only-of-type {\n",
       "        vertical-align: middle;\n",
       "    }\n",
       "\n",
       "    .dataframe tbody tr th {\n",
       "        vertical-align: top;\n",
       "    }\n",
       "\n",
       "    .dataframe thead th {\n",
       "        text-align: right;\n",
       "    }\n",
       "</style>\n",
       "<table border=\"1\" class=\"dataframe\">\n",
       "  <thead>\n",
       "    <tr style=\"text-align: right;\">\n",
       "      <th></th>\n",
       "      <th>col1</th>\n",
       "      <th>col2</th>\n",
       "      <th>col3</th>\n",
       "    </tr>\n",
       "  </thead>\n",
       "  <tbody>\n",
       "    <tr>\n",
       "      <th>0</th>\n",
       "      <td>testing this         . , @#   device</td>\n",
       "      <td>trying to understand everythning</td>\n",
       "      <td>i have no idea what's happening here, this is ...</td>\n",
       "    </tr>\n",
       "    <tr>\n",
       "      <th>1</th>\n",
       "      <td>testing linguicaoseio   this ! % $        device</td>\n",
       "      <td>trying    to    understand everythning</td>\n",
       "      <td>i have no idea what's happening here, this is ...</td>\n",
       "    </tr>\n",
       "  </tbody>\n",
       "</table>\n",
       "</div>"
      ],
      "text/plain": [
       "                                               col1  \\\n",
       "0              testing this         . , @#   device   \n",
       "1  testing linguicaoseio   this ! % $        device   \n",
       "\n",
       "                                     col2  \\\n",
       "0        trying to understand everythning   \n",
       "1  trying    to    understand everythning   \n",
       "\n",
       "                                                col3  \n",
       "0  i have no idea what's happening here, this is ...  \n",
       "1  i have no idea what's happening here, this is ...  "
      ]
     },
     "execution_count": 7,
     "metadata": {},
     "output_type": "execute_result"
    }
   ],
   "source": [
    "prep.remove_accent(df, ['col1'])"
   ]
  },
  {
   "cell_type": "code",
   "execution_count": 8,
   "metadata": {},
   "outputs": [
    {
     "data": {
      "text/html": [
       "<div>\n",
       "<style scoped>\n",
       "    .dataframe tbody tr th:only-of-type {\n",
       "        vertical-align: middle;\n",
       "    }\n",
       "\n",
       "    .dataframe tbody tr th {\n",
       "        vertical-align: top;\n",
       "    }\n",
       "\n",
       "    .dataframe thead th {\n",
       "        text-align: right;\n",
       "    }\n",
       "</style>\n",
       "<table border=\"1\" class=\"dataframe\">\n",
       "  <thead>\n",
       "    <tr style=\"text-align: right;\">\n",
       "      <th></th>\n",
       "      <th>col1</th>\n",
       "      <th>col2</th>\n",
       "      <th>col3</th>\n",
       "    </tr>\n",
       "  </thead>\n",
       "  <tbody>\n",
       "    <tr>\n",
       "      <th>0</th>\n",
       "      <td>testing this         . , @#   device</td>\n",
       "      <td>trying to understand everythning</td>\n",
       "      <td>i have no idea what's happening here, this is ...</td>\n",
       "    </tr>\n",
       "    <tr>\n",
       "      <th>1</th>\n",
       "      <td>testing linguiçãõséíó   this ! % $        device</td>\n",
       "      <td>trying    to    understand everythning</td>\n",
       "      <td>i have no idea what's happening here, this is ...</td>\n",
       "    </tr>\n",
       "  </tbody>\n",
       "</table>\n",
       "</div>"
      ],
      "text/plain": [
       "                                               col1  \\\n",
       "0              testing this         . , @#   device   \n",
       "1  testing linguiçãõséíó   this ! % $        device   \n",
       "\n",
       "                                     col2  \\\n",
       "0        trying to understand everythning   \n",
       "1  trying    to    understand everythning   \n",
       "\n",
       "                                                col3  \n",
       "0  i have no idea what's happening here, this is ...  \n",
       "1  i have no idea what's happening here, this is ...  "
      ]
     },
     "execution_count": 8,
     "metadata": {},
     "output_type": "execute_result"
    }
   ],
   "source": [
    "prep.to_lower(df, ['col1'])"
   ]
  },
  {
   "cell_type": "code",
   "execution_count": 9,
   "metadata": {},
   "outputs": [
    {
     "data": {
      "text/html": [
       "<div>\n",
       "<style scoped>\n",
       "    .dataframe tbody tr th:only-of-type {\n",
       "        vertical-align: middle;\n",
       "    }\n",
       "\n",
       "    .dataframe tbody tr th {\n",
       "        vertical-align: top;\n",
       "    }\n",
       "\n",
       "    .dataframe thead th {\n",
       "        text-align: right;\n",
       "    }\n",
       "</style>\n",
       "<table border=\"1\" class=\"dataframe\">\n",
       "  <thead>\n",
       "    <tr style=\"text-align: right;\">\n",
       "      <th></th>\n",
       "      <th>col1</th>\n",
       "      <th>col2</th>\n",
       "      <th>col3</th>\n",
       "    </tr>\n",
       "  </thead>\n",
       "  <tbody>\n",
       "    <tr>\n",
       "      <th>0</th>\n",
       "      <td>U         . , UU   U</td>\n",
       "      <td>trying to Understand Uthning</td>\n",
       "      <td>i have no idea what's happening here, this is ...</td>\n",
       "    </tr>\n",
       "    <tr>\n",
       "      <th>1</th>\n",
       "      <td>U ! % $        U</td>\n",
       "      <td>trying    to    Understand Uthning</td>\n",
       "      <td>i have no idea what's happening here, this is ...</td>\n",
       "    </tr>\n",
       "  </tbody>\n",
       "</table>\n",
       "</div>"
      ],
      "text/plain": [
       "                   col1                                col2  \\\n",
       "0  U         . , UU   U        trying to Understand Uthning   \n",
       "1      U ! % $        U  trying    to    Understand Uthning   \n",
       "\n",
       "                                                col3  \n",
       "0  i have no idea what's happening here, this is ...  \n",
       "1  i have no idea what's happening here, this is ...  "
      ]
     },
     "execution_count": 9,
     "metadata": {},
     "output_type": "execute_result"
    }
   ],
   "source": [
    "prep.replace_regex(df, ['col1', 'col2'], ['(.*) this', '@', \"#\", 'u', 'device', 'every'], 'U')"
   ]
  },
  {
   "cell_type": "code",
   "execution_count": 10,
   "metadata": {},
   "outputs": [
    {
     "data": {
      "text/html": [
       "<div>\n",
       "<style scoped>\n",
       "    .dataframe tbody tr th:only-of-type {\n",
       "        vertical-align: middle;\n",
       "    }\n",
       "\n",
       "    .dataframe tbody tr th {\n",
       "        vertical-align: top;\n",
       "    }\n",
       "\n",
       "    .dataframe thead th {\n",
       "        text-align: right;\n",
       "    }\n",
       "</style>\n",
       "<table border=\"1\" class=\"dataframe\">\n",
       "  <thead>\n",
       "    <tr style=\"text-align: right;\">\n",
       "      <th></th>\n",
       "      <th>col1</th>\n",
       "      <th>col2</th>\n",
       "      <th>col3</th>\n",
       "    </tr>\n",
       "  </thead>\n",
       "  <tbody>\n",
       "    <tr>\n",
       "      <th>0</th>\n",
       "      <td>testing . , @# device</td>\n",
       "      <td>trying understand everythning</td>\n",
       "      <td>idea what's happening here, weird</td>\n",
       "    </tr>\n",
       "    <tr>\n",
       "      <th>1</th>\n",
       "      <td>testing linguiçãõséíó ! % $ device</td>\n",
       "      <td>trying understand everythning</td>\n",
       "      <td>idea what's happening here, weird</td>\n",
       "    </tr>\n",
       "  </tbody>\n",
       "</table>\n",
       "</div>"
      ],
      "text/plain": [
       "                                 col1                           col2  \\\n",
       "0               testing . , @# device  trying understand everythning   \n",
       "1  testing linguiçãõséíó ! % $ device  trying understand everythning   \n",
       "\n",
       "                                col3  \n",
       "0  idea what's happening here, weird  \n",
       "1  idea what's happening here, weird  "
      ]
     },
     "execution_count": 10,
     "metadata": {},
     "output_type": "execute_result"
    }
   ],
   "source": [
    "prep.remove_stopwords(df, ['col1', 'col2', 'col3'])"
   ]
  },
  {
   "cell_type": "code",
   "execution_count": 11,
   "metadata": {},
   "outputs": [
    {
     "data": {
      "text/html": [
       "<div>\n",
       "<style scoped>\n",
       "    .dataframe tbody tr th:only-of-type {\n",
       "        vertical-align: middle;\n",
       "    }\n",
       "\n",
       "    .dataframe tbody tr th {\n",
       "        vertical-align: top;\n",
       "    }\n",
       "\n",
       "    .dataframe thead th {\n",
       "        text-align: right;\n",
       "    }\n",
       "</style>\n",
       "<table border=\"1\" class=\"dataframe\">\n",
       "  <thead>\n",
       "    <tr style=\"text-align: right;\">\n",
       "      <th></th>\n",
       "      <th>col1</th>\n",
       "      <th>col2</th>\n",
       "      <th>col3</th>\n",
       "    </tr>\n",
       "  </thead>\n",
       "  <tbody>\n",
       "    <tr>\n",
       "      <th>0</th>\n",
       "      <td>[testing, device]</td>\n",
       "      <td>[trying, understand, everythning]</td>\n",
       "      <td>[idea, whats, happening, weird]</td>\n",
       "    </tr>\n",
       "    <tr>\n",
       "      <th>1</th>\n",
       "      <td>[testing, linguicaoseio, device]</td>\n",
       "      <td>[trying, understand, everythning]</td>\n",
       "      <td>[idea, whats, happening, weird]</td>\n",
       "    </tr>\n",
       "  </tbody>\n",
       "</table>\n",
       "</div>"
      ],
      "text/plain": [
       "                               col1                               col2  \\\n",
       "0                 [testing, device]  [trying, understand, everythning]   \n",
       "1  [testing, linguicaoseio, device]  [trying, understand, everythning]   \n",
       "\n",
       "                              col3  \n",
       "0  [idea, whats, happening, weird]  \n",
       "1  [idea, whats, happening, weird]  "
      ]
     },
     "execution_count": 11,
     "metadata": {},
     "output_type": "execute_result"
    }
   ],
   "source": [
    "prep.pipeline(df, ['col1', 'col2', 'col3'], pipeline=[0, 1, 2, 3, 5, 9])"
   ]
  },
  {
   "cell_type": "code",
   "execution_count": 16,
   "metadata": {},
   "outputs": [
    {
     "data": {
      "text/html": [
       "<div>\n",
       "<style scoped>\n",
       "    .dataframe tbody tr th:only-of-type {\n",
       "        vertical-align: middle;\n",
       "    }\n",
       "\n",
       "    .dataframe tbody tr th {\n",
       "        vertical-align: top;\n",
       "    }\n",
       "\n",
       "    .dataframe thead th {\n",
       "        text-align: right;\n",
       "    }\n",
       "</style>\n",
       "<table border=\"1\" class=\"dataframe\">\n",
       "  <thead>\n",
       "    <tr style=\"text-align: right;\">\n",
       "      <th></th>\n",
       "      <th>col1</th>\n",
       "      <th>col2</th>\n",
       "      <th>col3</th>\n",
       "    </tr>\n",
       "  </thead>\n",
       "  <tbody>\n",
       "    <tr>\n",
       "      <th>0</th>\n",
       "      <td>test this . , @# devic</td>\n",
       "      <td>tri to understand everythn</td>\n",
       "      <td>i have no idea what happen here, this is so weird</td>\n",
       "    </tr>\n",
       "    <tr>\n",
       "      <th>1</th>\n",
       "      <td>test linguiçãõséíó this ! % $ devic</td>\n",
       "      <td>tri to understand everythn</td>\n",
       "      <td>i have no idea what happen here, this is so weird</td>\n",
       "    </tr>\n",
       "  </tbody>\n",
       "</table>\n",
       "</div>"
      ],
      "text/plain": [
       "                                  col1                        col2  \\\n",
       "0               test this . , @# devic  tri to understand everythn   \n",
       "1  test linguiçãõséíó this ! % $ devic  tri to understand everythn   \n",
       "\n",
       "                                                col3  \n",
       "0  i have no idea what happen here, this is so weird  \n",
       "1  i have no idea what happen here, this is so weird  "
      ]
     },
     "execution_count": 16,
     "metadata": {},
     "output_type": "execute_result"
    }
   ],
   "source": [
    "prep.stemming(df, ['col1', 'col2', 'col3'])"
   ]
  }
 ],
 "metadata": {
  "kernelspec": {
   "display_name": "Python 3",
   "language": "python",
   "name": "python3"
  },
  "language_info": {
   "codemirror_mode": {
    "name": "ipython",
    "version": 3
   },
   "file_extension": ".py",
   "mimetype": "text/x-python",
   "name": "python",
   "nbconvert_exporter": "python",
   "pygments_lexer": "ipython3",
   "version": "3.7.6"
  }
 },
 "nbformat": 4,
 "nbformat_minor": 4
}
